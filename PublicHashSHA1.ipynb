{
  "nbformat": 4,
  "nbformat_minor": 0,
  "metadata": {
    "colab": {
      "name": "PublicHashSHA1.ipynb",
      "provenance": [],
      "collapsed_sections": []
    },
    "kernelspec": {
      "name": "python3",
      "display_name": "Python 3"
    },
    "language_info": {
      "name": "python"
    }
  },
  "cells": [
    {
      "cell_type": "markdown",
      "metadata": {
        "id": "1ZzU7Sm9e_Gi"
      },
      "source": [
        "<table>\n",
        "<thead>\n",
        "  <tr>\n",
        "    <th><img alt=\"UdeA\" height=\"150px\" src=\"https://upload.wikimedia.org/wikipedia/commons/archive/f/fb/20161010213812%21Escudo-UdeA.svg\" align=\"left\" hspace=\"10px\" vspace=\"0px\"></th>\n",
        "    <th><h1> <b> Implementación del algoritmo SHA-1 \"HASH Function\" </b> </h1></th>\n",
        "    <th><img alt=\"CC\" height=\"150px\" src=\"https://www.udea.edu.co/wps/wcm/connect/udea/b867d329-d2de-4a2f-b85f-81b3ea92e8a8/1.JPG?MOD=AJPERES&CACHEID=ROOTWORKSPACE.Z18_L8L8H8C0LODDC0A6SSS2AD2GO4-b867d329-d2de-4a2f-b85f-81b3ea92e8a8-mWZpYpQ\" align=\"right\" hspace=\"0px\" vspace=\"0px\"></th>\n",
        "  </tr>\n",
        "</thead>\n",
        "<hr size=10 noshade color=\"green\">\n",
        "</table>\n",
        "<hr size=10 noshade color=\"green\">\n",
        "\n",
        "<p>\n",
        "<img alt=\"CC\" height=\"70px\" src=\"https://creativecommons.org/images/deed/cc_blue_x2.png\" align=\"left\" hspace=\"0px\" vspace=\"0px\">\n",
        "<img alt=\"Attribution\" height=\"70px\" src=\"https://creativecommons.org/images/deed/attribution_icon_blue_x2.png\" align=\"left\" hspace=\"0px\" vspace=\"0px\">\n",
        "<img alt=\"NC\" height=\"70px\" src=\"https://creativecommons.org/images/deed/nc_blue_x2.png\" align=\"left\" hspace=\"0px\" vspace=\"0px\">\n",
        "<img alt=\"SA\" height=\"70px\" src=\"https://creativecommons.org/images/deed/sa_blue_x2.png\" align=\"left\" hspace=\"0px\" vspace=\"0px\">\n",
        "</p>\n",
        "\n",
        "<div align=\"right\">\n",
        "<h2> <b> Por: Julián Andrés Castillo G. </b> </h2>\n",
        "<a href=\"mailto:jandres.castillo@udea.edu.co\"> ✉ Julian Andres Castillo Grisales </a> \n",
        "</div><br><br>\n",
        "\n",
        "<br>\n",
        "\n",
        "**El presente documento hace parte del grupo de Investigación Ingeniería & Sociedad - Jornada de Conferencias.**"
      ]
    },
    {
      "cell_type": "code",
      "metadata": {
        "colab": {
          "base_uri": "https://localhost:8080/"
        },
        "id": "k0eXJfT0ezXQ",
        "outputId": "626ce101-d730-45b0-9696-ff754ea72008"
      },
      "source": [
        "\n",
        "# -*- coding: utf-8 -*-\n",
        "\"\"\"\n",
        "Created on Mon Aug 9 14:45:58 2021\n",
        "\n",
        "@author: Julian Castillo\n",
        "@script: Implementar SHA-1\n",
        "\"\"\"\n",
        "\n",
        "import hashlib\n",
        "\n",
        "texto = \"Ingeniería y Sociedad\" #@param {type:\"string\"}\n",
        "\n",
        "# Pasamos a Unicode el texto\n",
        "# Luego se pasa a la funcion SHA1() de la libreria hashlib \n",
        "resultado = hashlib.sha1(texto.encode())\n",
        "# Imprimir resultado solo me retorna la posición de memoria\n",
        "print(\"Posición en Memoria -> \", resultado)\n",
        "resultado = resultado.hexdigest()\n",
        "# printing the equivalent hexadecimal value.\n",
        "print(\"El valor hexadecimal de SHA1 es ->\", resultado )\n",
        "print(\"El largo de la cadena Hash es de\", len(resultado), \"caracteres\")"
      ],
      "execution_count": 9,
      "outputs": [
        {
          "output_type": "stream",
          "text": [
            "Posición en Memoria ->  <sha1 HASH object @ 0x7fb46ecbba80>\n",
            "El valor hexadecimal de SHA1 es -> 862603d2331383690354d232f16fc073ab1d17e7\n",
            "El largo de la cadena Hash es de 40 caracteres\n"
          ],
          "name": "stdout"
        }
      ]
    },
    {
      "cell_type": "markdown",
      "metadata": {
        "id": "D5n-srWqhdJH"
      },
      "source": [
        "Cadena de entrada: “Ingenieria y Sociedad”\n",
        "\n",
        "Hash Salida: 8588b58bd1c2b1eaf09a7b3ff654da34f91d5830\n",
        "\n",
        "Una Tilde de diferencia\n",
        "\n",
        "Cadena de entrada: “Ingeniería y Sociedad”\n",
        "\n",
        "Hash Salida: 862603d2331383690354d232f16fc073ab1d17e7"
      ]
    },
    {
      "cell_type": "code",
      "metadata": {
        "colab": {
          "base_uri": "https://localhost:8080/"
        },
        "id": "aRSmnuC9kHeF",
        "outputId": "f87e7f52-639b-4fc6-aca4-f08d9fe07fbd"
      },
      "source": [
        "cadena1 = '8588b58bd1c2b1eaf09a7b3ff654da34f91d5830' # --> “Ingenieria y Sociedad”\n",
        "cadena2 = '862603d2331383690354d232f16fc073ab1d17e7' # --> “Ingeniería y Sociedad”\n",
        "#Comparemos las cadenas una a una luego de ver su tipo de datos\n",
        "print(type(cadena1))\n",
        "print(type(cadena2))\n",
        "igualdadposicional = 0\n",
        "for i in range(len(cadena1)):\n",
        "    if cadena1[i] == cadena2[i]:\n",
        "        igualdadposicional +=1\n",
        "print('Total de posiciones iguales: {} de un total de 40'.format(igualdadposicional))\n",
        "print('\\tEsto equivale a un {:,.2f}%'.format(igualdadposicional/len(cadena1)*100))"
      ],
      "execution_count": 29,
      "outputs": [
        {
          "output_type": "stream",
          "text": [
            "<class 'str'>\n",
            "<class 'str'>\n",
            "Total de posiciones iguales: 5 de un total de 40\n",
            "\tEsto equivale a un 12.50%\n"
          ],
          "name": "stdout"
        }
      ]
    }
  ]
}